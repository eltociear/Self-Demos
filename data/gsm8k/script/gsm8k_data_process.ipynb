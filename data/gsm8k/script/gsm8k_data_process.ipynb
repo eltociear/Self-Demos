{
 "cells": [
  {
   "attachments": {},
   "cell_type": "markdown",
   "metadata": {},
   "source": [
    "# GM8K data processing"
   ]
  },
  {
   "attachments": {},
   "cell_type": "markdown",
   "metadata": {},
   "source": [
    "## seed demo"
   ]
  },
  {
   "attachments": {},
   "cell_type": "markdown",
   "metadata": {},
   "source": [
    "get demos from train set"
   ]
  },
  {
   "cell_type": "code",
   "execution_count": null,
   "metadata": {},
   "outputs": [],
   "source": [
    "import json, re\n",
    "\n",
    "data_list = []\n",
    "with open('train.jsonl', 'r', encoding='utf-8') as input_file:\n",
    "    for line in input_file:\n",
    "        data_list.append(json.loads(line))\n",
    "\n",
    "num = 0\n",
    "new_data_list = []\n",
    "for data in data_list:\n",
    "    question: str = data.get(\"question\", \"\")\n",
    "    raw_answer: str = data.get(\"answer\", \"\")\n",
    "\n",
    "    multi_step: list = raw_answer.split(\"\\n\")\n",
    "    final_answer: int = int(re.findall(r'\\d+', multi_step[-1])[0])\n",
    "    multi_step = multi_step[:-1]\n",
    "\n",
    "    for i in range(len(multi_step)):\n",
    "        multi_step[i] = re.sub(r'<<.*>>', '', multi_step[i])\n",
    "    multi_step_str = \" \".join(multi_step)\n",
    "\n",
    "    new_instance = {\n",
    "        \"problem\": question,\n",
    "        \"solution\": multi_step_str,\n",
    "        \"answer\": final_answer\n",
    "    }\n",
    "    new_data_list.append(new_instance)\n",
    "    num += 1\n",
    "\n",
    "with open('train.json', 'w', encoding='utf-8') as output_file:\n",
    "    json.dump(new_data_list, output_file, ensure_ascii=False, indent=4)"
   ]
  },
  {
   "attachments": {},
   "cell_type": "markdown",
   "metadata": {},
   "source": [
    "2. choose seed"
   ]
  },
  {
   "cell_type": "code",
   "execution_count": null,
   "metadata": {},
   "outputs": [],
   "source": [
    "seed_demos: list = [\n",
    "    {\n",
    "        \"Question\": \"Manny had 3 birthday cookie pies to share with his 24 classmates and his teacher, Mr. Keith. If each of the cookie pies were cut into 10 slices and Manny, his classmates, and Mr. Keith all had 1 piece, how many slices are left?\",\n",
    "        \"Thought\": \"The question is asking how many slices of cookie pie are left after everyone has had a piece. We need to calculate the total number of slices and the number of people, and finally subtract them to get the answer.\",\n",
    "        \"Step\": \"There is a total of 3 x 10 = 30 cookie slices. There are 24 + 1 + 1 = 26 people who ate the cookie pieces. There is 30 - 26 = 4 cookie slices left. So the answer is 4.\",\n",
    "        \"Answer\": 4\n",
    "    },\n",
    "    {\n",
    "        \"Question\": \"Krystian works in the library. He borrows an average of 40 books every day. Every Friday, his number of borrowed books is about 40% higher than the daily average. How many books does he borrow in a week if the library is open from Monday to Friday?\",\n",
    "        \"Thought\": \"The question is asking how many books Krystian borrows from Monday to Friday. Since he borrows more books every Friday than daily average, we need to calculate the number of extra books he borrows on Friday. Then we calculate the average number of books borrowed over the five days and finally add them to get the answer.\",\n",
    "        \"Step\": \"The number of books borrowed on Friday is higher by 40 * .4 = 16 books. There are 5 days from Monday to Friday inclusive, so Krystian borrows an average of 5 * 40 = 200 books during that time. With Friday's increase in borrowings, during one week Krystian borrows 200 + 16 = 216 books. So the answer is 216.\",\n",
    "        \"Answer\": 216\n",
    "    },\n",
    "    {\n",
    "        \"Question\": \"Toby is counting goldfish in the local pond. He knows that only 25% of goldfish are at the surface and the rest are too deep below the surface to be able to see. If he counts 15 goldfish, how many are below the surface?\",\n",
    "        \"Thought\": \"The question is asking how many goldfish are below the surface when unable to see. Since we can see the number of fish on the surface and we know the percentage of fish on the surface, we can calculate the total number of fish. And then subtract them to get the answer.\",\n",
    "        \"Step\": \"There are 60 goldfish because 15 / .25 = 60. There are 45 goldfish below the surface because 60 - 15 = 45. So the answer is 45.\",\n",
    "        \"Answer\": 45\n",
    "    },\n",
    "    {\n",
    "        \"Question\": \"Ali had a collection of seashells. He started with 180 seashells. He then gave away 40 seashells to his friends. He also gave 30 seashells to his brothers. If he sold half of the remaining seashells, how many seashells did he have left?\",\n",
    "        \"Thought\": \"The question is asking how many seashells Ali has left after giving some to his friends and brothers and selling half of the remaining seashells. We need to calculate the number of seashells he has left after giving some to others. And then we calculate the amount left after he sells half of the remaining seashells to get the answer.\",\n",
    "        \"Step\": \"When he gave 40 seashells to his friends, Ali had 180 - 40 = 140 seashells. When he gave another 30 seashells to his brothers, he had 140 - 30 = 110 seashells. He also sold half of the seashells, a total of 110 * .5 = 55 seashells. He was left with 110 - 55 = 55 seashells. So the answer is 55.\",\n",
    "        \"Answer\": 55\n",
    "    },\n",
    "    {\n",
    "        \"Question\": \"There are 3 bicycles, 4 tricycles and 7 unicycles in the garage at Zoe's house. Each bicycle has 2 wheels, each tricycle has 3 wheels and each unicycle has 1 wheel. How many wheels are there in all?\",\n",
    "        \"Thought\": \"The question is asking how many wheels there are in total. We need to calculate the number of wheels for each type of vehicle and then add them to get the answer.\",\n",
    "        \"Step\": \"The number of bicycle wheels is 2 * 3 = 6. The number of tricycle wheels is 3 * 4 = 12. The number of unicycle wheels is 1 * 7 = 7. The total number of wheels is 6 + 12 + 7 = 25. So the answer is 25.\",\n",
    "        \"Answer\": 25\n",
    "    }\n",
    "]"
   ]
  },
  {
   "attachments": {},
   "cell_type": "markdown",
   "metadata": {},
   "source": [
    "insert demos"
   ]
  },
  {
   "cell_type": "code",
   "execution_count": null,
   "metadata": {},
   "outputs": [],
   "source": [
    "import random, json\n",
    "from tqdm import tqdm\n",
    "\n",
    "with open('test_multistep_without_calculator.json', 'r', encoding='utf-8') as input_file:\n",
    "    data_list: list = json.load(input_file)\n",
    "\n",
    "new_data_list = []\n",
    "for data in tqdm(data_list):\n",
    "    question = data['question']\n",
    "    answer = data['final_answer']\n",
    "    demonstrations = random.sample(seed_demos, 3)\n",
    "    thought = data['mid_process']\n",
    "    new_data = {\n",
    "        \"Question\": question,\n",
    "        \"Demonstrations\": demonstrations,\n",
    "        \"Answer\": answer\n",
    "    }\n",
    "    new_data_list.append(new_data)\n",
    "\n",
    "with open('../test_demos.json', 'w', encoding='utf-8') as output_file:\n",
    "    json.dump(new_data_list, output_file, ensure_ascii=False, indent=4)"
   ]
  }
 ],
 "metadata": {
  "kernelspec": {
   "display_name": "pytorch",
   "language": "python",
   "name": "python3"
  },
  "language_info": {
   "codemirror_mode": {
    "name": "ipython",
    "version": 3
   },
   "file_extension": ".py",
   "mimetype": "text/x-python",
   "name": "python",
   "nbconvert_exporter": "python",
   "pygments_lexer": "ipython3",
   "version": "3.7.10"
  },
  "orig_nbformat": 4
 },
 "nbformat": 4,
 "nbformat_minor": 2
}
