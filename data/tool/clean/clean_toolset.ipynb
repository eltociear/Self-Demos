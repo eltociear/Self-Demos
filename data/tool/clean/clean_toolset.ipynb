{
 "cells": [
  {
   "attachments": {},
   "cell_type": "markdown",
   "metadata": {},
   "source": [
    "# clean dataset"
   ]
  },
  {
   "attachments": {},
   "cell_type": "markdown",
   "metadata": {},
   "source": [
    "list->dict"
   ]
  },
  {
   "cell_type": "code",
   "execution_count": null,
   "metadata": {},
   "outputs": [],
   "source": [
    "import json\n",
    "\n",
    "with open('raw_alldata.json', 'r', encoding='utf-8') as input_file:\n",
    "    data_list = json.load(input_file)\n",
    "\n",
    "for data in data_list:\n",
    "    if(not isinstance(data['Function_Description'], list)): continue\n",
    "    function_description_dict = {}\n",
    "    for item in data[\"Function_Description\"][0]:\n",
    "        function_description_dict[item] = data[\"Function_Description\"][0][item]\n",
    "    data[\"Function_Description\"] = function_description_dict\n",
    "\n",
    "with open('raw_alldata.json', 'w') as file:\n",
    "    json.dump(data_list, file, ensure_ascii=False, indent=4)\n"
   ]
  },
  {
   "attachments": {},
   "cell_type": "markdown",
   "metadata": {},
   "source": [
    "read"
   ]
  },
  {
   "cell_type": "code",
   "execution_count": null,
   "metadata": {},
   "outputs": [],
   "source": [
    "import json, re\n",
    "with open('raw_alldata.json', 'r', encoding='utf-8') as input_file:\n",
    "    data_list = json.load(input_file)\n"
   ]
  },
  {
   "attachments": {},
   "cell_type": "markdown",
   "metadata": {},
   "source": [
    "delete apikey"
   ]
  },
  {
   "cell_type": "code",
   "execution_count": null,
   "metadata": {},
   "outputs": [],
   "source": [
    "def contain_apikey(instance: dict) -> bool:\n",
    "    for ans in instance['Answer']:\n",
    "        if 'apikey' in ans['Action_Input'].lower(): return True\n",
    "        if 'api_key' in ans['Action_Input'].lower(): return True\n",
    "    return False\n"
   ]
  },
  {
   "attachments": {},
   "cell_type": "markdown",
   "metadata": {},
   "source": [
    "delete Function_Description"
   ]
  },
  {
   "cell_type": "code",
   "execution_count": null,
   "metadata": {},
   "outputs": [],
   "source": [
    "# test data\n",
    "Function_Description = {\n",
    "    \"CountryCountryInfo\": \"Get country info for the given country\\nParameters: {\\\"countryCode\\\": \\\"Required. string. Two-character represented country code. For instance, CN or cn represents China.\\\"}\\nOutput: Success.\\n - Format: text/plain\\n - Structure: #CountryInfoDto\",\n",
    "    \"CountryAvailableCountries\": \"Get all available countries\\nParameters: {}\\nOutput: Success.\\n - Format: text/plain\\n - Structure: Array[#CountryV3Dto]\",\n",
    "    \"LongWeekendLongWeekend\": \"Get long weekends for a given country\\nParameters: {\\\"year\\\": \\\"Required. integer. \\\", \\\"countryCode\\\": \\\"Required. string. Two-character represented country code. For instance, CN or cn represents China.\\\"}\\nOutput: Success.\\n - Format: text/plain\\n - Structure: Array[#LongWeekendV3Dto]\",\n",
    "    \"PublicHolidayPublicHolidaysV3\": \"Get public holidays\\nParameters: {\\\"year\\\": \\\"Required. integer. \\\", \\\"countryCode\\\": \\\"Required. string. Two-character represented country code. For instance, CN or cn represents China.\\\"}\\nOutput: Public holidays.\\n - Format: text/plain\\n - Structure: Array[#PublicHolidayV3Dto]\",\n",
    "    \"PublicHolidayIsTodayPublicHoliday\": \"Is today a public holiday\\nParameters: {\\\"countryCode\\\": \\\"Required. string. Two-character represented country code. For instance, CN or cn represents China.\\\", \\\"countyCode\\\": \\\"string. \\\", \\\"offset\\\": \\\"integer. utc timezone offset.\\\"}\\nOutput: Today is a public holiday.\\n - Format: \\n - Structure:\",\n",
    "    \"PublicHolidayNextPublicHolidays\": \"Returns the upcoming public holidays for the next 365 days for the given country\\nParameters: {\\\"countryCode\\\": \\\"Required. string. Two-character represented country code. For instance, CN or cn represents China.\\\"}\\nOutput: Success.\\n - Format: text/plain\\n - Structure: Array[#PublicHolidayV3Dto]\",\n",
    "    \"PublicHolidayNextPublicHolidaysWorldwide\": \"Returns the upcoming public holidays for the next 7 days\\nParameters: {}\\nOutput: Success.\\n - Format: text/plain\\n - Structure: Array[#PublicHolidayV3Dto]\",\n",
    "    \"VersionGetVersion\": \"Get version of the used Nager.Date library\\nParameters: {}\\nOutput: Success.\\n - Format: text/plain\\n - Structure: #VersionInfoDto\",\n",
    "    \"components\": \"The detailed output format for the tools is outlined below:\\n#CountryInfoDto: Object{commonName, officialName, countryCode, region, borders: Array[#CountryInfoDto]}\\n#CountryV3Dto: Object{countryCode, name}\\n#LongWeekendV3Dto: Object{startDate, endDate, dayCount, needBridgeDay}\\n#PublicHolidayType: \\n#PublicHolidayV3Dto: Object{date, localName, name, countryCode, fixed, global, counties: Array[string], launchYear, types: Array[#PublicHolidayType]}\\n#VersionInfoDto: Object{name, version}\"\n",
    "}\n",
    "\n",
    "def clean_function_description(function_description: dict) -> dict:\n",
    "    new_function_description = {}\n",
    "    for key, value in function_description.items():\n",
    "        if key == 'components' : continue\n",
    "        if 'apikey' in key.lower() or 'api_key' in key.lower() : continue\n",
    "        value = value[:value.find(\"\\nOutput:\")]\n",
    "        new_function_description[key] = value\n",
    "    return new_function_description\n",
    "\n",
    "print(clean_function_description(Function_Description))"
   ]
  },
  {
   "attachments": {},
   "cell_type": "markdown",
   "metadata": {},
   "source": [
    "run"
   ]
  },
  {
   "cell_type": "code",
   "execution_count": null,
   "metadata": {},
   "outputs": [],
   "source": [
    "data_list = [data for data in data_list if data['Instances'] != [] ]\n",
    "print(\"after clean empty instances, remain tools num: \", len(data_list))\n",
    "\n",
    "new_data_list = []\n",
    "delete_not_used_function_num = 0\n",
    "delete_not_exist_function_num = 0\n",
    "\n",
    "for data in data_list:\n",
    "    # Function_Description\n",
    "    if(len(data['Function_Description']) <= 2 or len(data['Instances']) <= 3) : continue\n",
    "    data['Function_Description'] = clean_function_description(data['Function_Description'])\n",
    "    function_list = [key for key, _ in data['Function_Description'].items()]\n",
    "\n",
    "    # Instances\n",
    "    # check apikey\n",
    "    data['Instances'] = [instance for instance in data['Instances'] if not contain_apikey(instance)]\n",
    "    # check function exist\n",
    "    function_used_set : set = set([])\n",
    "    new_instance_list = []\n",
    "    for instance in data['Instances']:\n",
    "        is_valid = True\n",
    "        for ans in instance['Answer']: \n",
    "            if(ans['Action'] not in function_list): \n",
    "                delete_not_exist_function_num += 1\n",
    "                is_valid = False\n",
    "                break\n",
    "            function_used_set.add(ans['Action'])\n",
    "        if(is_valid):\n",
    "            new_instance_list.append(instance)\n",
    "    data['Instances'] = new_instance_list\n",
    "\n",
    "    new_function_description = {}\n",
    "    for key, value in data['Function_Description'].items():\n",
    "        if(key not in function_used_set): \n",
    "            delete_not_used_function_num += 1\n",
    "            continue\n",
    "        new_function_description[key] = value\n",
    "    data['Function_Description'] = new_function_description\n",
    "    \n",
    "    new_data_list.append(data)\n",
    "\n",
    "print(\"delete_not_exist_function_num: \", delete_not_exist_function_num)\n",
    "print(\"delete_not_used_function_num: \", delete_not_used_function_num)\n"
   ]
  },
  {
   "cell_type": "code",
   "execution_count": null,
   "metadata": {},
   "outputs": [],
   "source": [
    "total_instance_num = 0\n",
    "for data in new_data_list:\n",
    "    total_instance_num += len(data['Instances'])\n",
    "print(total_instance_num)"
   ]
  },
  {
   "cell_type": "code",
   "execution_count": null,
   "metadata": {},
   "outputs": [],
   "source": [
    "with open('raw_data_3k.json', 'w') as file:\n",
    "    json.dump(new_data_list, file, ensure_ascii=False, indent=4)"
   ]
  },
  {
   "cell_type": "markdown",
   "metadata": {},
   "source": [
    "make sure description is str"
   ]
  },
  {
   "cell_type": "code",
   "execution_count": null,
   "metadata": {},
   "outputs": [],
   "source": [
    "import json\n",
    "\n",
    "with open('./raw_data_3k.json', 'r', encoding='utf8') as input_f:\n",
    "    data_list = json.load(input_f)\n",
    "\n",
    "for data in data_list:\n",
    "    if type(data['Description']) == str: continue\n",
    "    description_str = data['Description'][0]\n",
    "    data['Description'] = description_str\n",
    "\n",
    "print(data_list[300]['Description'])\n",
    "with open('./raw_data_3k.json', 'w', encoding='utf8') as output_f:\n",
    "    json.dump(data_list, output_f, ensure_ascii=False, indent=4)\n"
   ]
  },
  {
   "attachments": {},
   "cell_type": "markdown",
   "metadata": {},
   "source": [
    "## Make demos"
   ]
  },
  {
   "cell_type": "code",
   "execution_count": null,
   "metadata": {},
   "outputs": [],
   "source": [
    "import json\n",
    "import random\n",
    "from copy import deepcopy\n",
    "from tqdm import tqdm\n",
    "\n",
    "# random.seed(42)\n",
    "\n",
    "with open('raw_data_3k.json', 'r', encoding='utf-8') as input_file:\n",
    "    raw_data_list = json.load(input_file)\n",
    "\n",
    "demo_data_list = []\n",
    "\n",
    "def get_random_demos(query: dict) -> list:\n",
    "    selected_action = query['Answer'][0]['Action']\n",
    "    # print(\"selected_action: \", selected_action)\n",
    "    remain_instances = [instance for instance in instances if instance['Answer'][0]['Action'] != selected_action]\n",
    "    if len(remain_instances) < 3 : return []\n",
    "    if selected_action in remain_actions: remain_actions.remove(selected_action)\n",
    "    demos = random.sample(remain_instances, k=3)\n",
    "    demo_data_list.append({\n",
    "        \"Name\": data['Name'], \n",
    "        \"Description\": data['Description'], \n",
    "        \"Function_Description\": data['Function_Description'],\n",
    "        \"Demonstration\": demos,\n",
    "        \"Query\": query\n",
    "    })\n",
    "    return demos\n",
    "\n",
    "TRY_TIMES = 4\n",
    "\n",
    "for data in tqdm(raw_data_list):\n",
    "    cnt = 0\n",
    "    instances: list = data.get(\"Instances\", [])\n",
    "    instances.sort(key=lambda instance: len(json.dumps(instance['Answer'])), reverse=True)\n",
    "    remain_actions = set([instance['Answer'][0]['Action'] for instance in instances])\n",
    "    # print(\"init: \", remain_actions)\n",
    "    \n",
    "    for i in range(len(instances)):\n",
    "        if cnt == TRY_TIMES: break\n",
    "        if get_random_demos(instances[i]) != []: cnt += 1\n",
    "\n",
    "\n",
    "print(len(demo_data_list))\n"
   ]
  },
  {
   "cell_type": "code",
   "execution_count": null,
   "metadata": {},
   "outputs": [],
   "source": [
    "with open('tool_demos.json', 'w', encoding='utf-8') as output_file:\n",
    "    json.dump(demo_data_list, output_file, ensure_ascii=False, indent=4)\n",
    "len(demo_data_list)"
   ]
  },
  {
   "cell_type": "markdown",
   "metadata": {},
   "source": [
    "random sample 200"
   ]
  },
  {
   "cell_type": "code",
   "execution_count": null,
   "metadata": {},
   "outputs": [],
   "source": [
    "import json\n",
    "\n",
    "with open('./tool_demos.json', 'r', encoding='utf8') as f:\n",
    "    data_list = json.load(f)\n",
    "\n",
    "sample_data_list = random.sample(data_list, 200)\n",
    "\n",
    "with open('./tool_demos_200.json', 'w', encoding='utf8') as output_f:\n",
    "    json.dump(sample_data_list, output_f, ensure_ascii=False, indent=4)"
   ]
  },
  {
   "cell_type": "code",
   "execution_count": null,
   "metadata": {},
   "outputs": [],
   "source": [
    "import json\n",
    "import random\n",
    "from copy import deepcopy\n",
    "from tqdm import tqdm\n",
    "\n",
    "with open('./tool_demos.json', 'r', encoding='utf8') as f:\n",
    "    data_list = json.load(f)\n",
    "\n",
    "random.shuffle(data_list)\n",
    "\n",
    "with open('./tool_demos.json', 'w', encoding='utf8') as output_f:\n",
    "    json.dump(data_list, output_f, ensure_ascii=False, indent=4)"
   ]
  }
 ],
 "metadata": {
  "kernelspec": {
   "display_name": "pytorch",
   "language": "python",
   "name": "python3"
  },
  "language_info": {
   "codemirror_mode": {
    "name": "ipython",
    "version": 3
   },
   "file_extension": ".py",
   "mimetype": "text/x-python",
   "name": "python",
   "nbconvert_exporter": "python",
   "pygments_lexer": "ipython3",
   "version": "3.10.9"
  },
  "orig_nbformat": 4
 },
 "nbformat": 4,
 "nbformat_minor": 2
}
