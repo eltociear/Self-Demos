{
 "cells": [
  {
   "cell_type": "markdown",
   "metadata": {},
   "source": [
    "# 合并原来的demos和新生成的demos"
   ]
  },
  {
   "cell_type": "markdown",
   "metadata": {},
   "source": [
    "tool 数据集"
   ]
  },
  {
   "cell_type": "code",
   "execution_count": 1,
   "metadata": {},
   "outputs": [],
   "source": [
    "import json\n",
    "from tqdm import tqdm"
   ]
  },
  {
   "cell_type": "code",
   "execution_count": 7,
   "metadata": {},
   "outputs": [],
   "source": [
    "with open('./tool_gpt35_wo-thought+reject_1_step2.json', 'r', encoding='utf-8') as f:\n",
    "    origin_5_demos_list = json.load(f)\n",
    "\n",
    "with open('./tool_gpt35_step2_generate_9.json', 'r', encoding='utf-8') as f:\n",
    "    new_4_demos_list = json.load(f)"
   ]
  },
  {
   "cell_type": "markdown",
   "metadata": {},
   "source": [
    "针对空值，统计，重新生成一次"
   ]
  },
  {
   "cell_type": "code",
   "execution_count": 8,
   "metadata": {},
   "outputs": [
    {
     "name": "stdout",
     "output_type": "stream",
     "text": [
      "[112, 234, 267, 282, 317, 341, 344, 373, 447, 460, 461, 602, 645, 756, 819, 820, 864, 869, 943, 958, 1036]\n"
     ]
    }
   ],
   "source": [
    "none_idx = []\n",
    "for idx, data in enumerate(new_4_demos_list):\n",
    "    if data == 'None': none_idx.append(idx)\n",
    "print(none_idx)"
   ]
  },
  {
   "cell_type": "code",
   "execution_count": 9,
   "metadata": {},
   "outputs": [
    {
     "name": "stdout",
     "output_type": "stream",
     "text": [
      "[['Query: I have a list of IP addresses and I need to retrieve the geolocation details for each of them. Can you show me how to use the `getGeolocationDetailsList` function?\\n\\nFunction Calls: [\"getGeolocationDetailsList(ip_addresses=[\\'192.168.1.1\\', \\'10.0.0.1\\', \\'172.16.0.1\\'])\"]', 'Query: I have a list of IP addresses and I need to retrieve the geolocation details for all of them using the `getGeolocationDetailsList` function.\\nFunction Calls: [\"getGeolocationDetailsList(ip_addresses=[\\'192.168.1.1\\', \\'10.0.0.1\\', \\'172.16.0.1\\'])\"]', 'Query: I have a list of IP addresses that I need to retrieve geolocation details for. The IP addresses are [\"192.168.1.1\", \"10.0.0.1\", \"172.16.0.1\"]. Can you help me with that?\\nFunction Calls: [\"getGeolocationDetailsList(ip_addresses=[\\'192.168.1.1\\', \\'10.0.0.1\\', \\'172.16.0.1\\'])\"]', 'Query: I have a list of IP addresses and I need to retrieve the geolocation details for each of them. Can you show me how to use the `getGeolocationDetailsList` function?\\n\\nFunction Calls: [\"getGeolocationDetailsList(ip_addresses=[\\'192.168.1.1\\', \\'10.0.0.1\\', \\'172.16.0.1\\'])\"]'], ['Query: I have a list of IP addresses and I need to retrieve the geolocation details for all of them using the `getGeolocationDetailsList` function.\\nFunction Calls: [\"getGeolocationDetailsList(ip_addresses=[\\'192.168.1.1\\', \\'10.0.0.1\\', \\'172.16.0.1\\'])\"]', 'Query: I have a list of IP addresses that I need to retrieve geolocation details for. The IP addresses are [\"192.168.1.1\", \"10.0.0.1\", \"172.16.0.1\"]. Can you help me with that?\\nFunction Calls: [\"getGeolocationDetailsList(ip_addresses=[\\'192.168.1.1\\', \\'10.0.0.1\\', \\'172.16.0.1\\'])\"]', 'Query: I have a list of IP addresses and I need to retrieve the geolocation details for each of them. Can you show me how to use the `getGeolocationDetailsList` function?\\n\\nFunction Calls: [\"getGeolocationDetailsList(ip_addresses=[\\'192.168.1.1\\', \\'10.0.0.1\\', \\'172.16.0.1\\'])\"]', 'Query: I want to verify the existence of the patent with the patent number \"TW202100345\". Please check if this patent exists in the database.\\nFunction Calls: [\"searchPatents(patentNumber=\\'TW202100345\\')\"]'], ['Query: I have a list of IP addresses that I need to retrieve geolocation details for. The IP addresses are [\"192.168.1.1\", \"10.0.0.1\", \"172.16.0.1\"]. Can you help me with that?\\nFunction Calls: [\"getGeolocationDetailsList(ip_addresses=[\\'192.168.1.1\\', \\'10.0.0.1\\', \\'172.16.0.1\\'])\"]', 'Query: I have a list of IP addresses and I need to retrieve the geolocation details for each of them. Can you show me how to use the `getGeolocationDetailsList` function?\\n\\nFunction Calls: [\"getGeolocationDetailsList(ip_addresses=[\\'192.168.1.1\\', \\'10.0.0.1\\', \\'172.16.0.1\\'])\"]', 'Query: I want to verify the existence of the patent with the patent number \"TW202100345\". Please check if this patent exists in the database.\\nFunction Calls: [\"searchPatents(patentNumber=\\'TW202100345\\')\"]', 'Query: I want to verify the existence of the patent with the patent number \"TW202100345\". Please search for this patent using the `searchPatents` function.\\n\\nFunction Calls: [\"searchPatents(patentNumber=\\'TW202100345\\')\"]'], ['Query: I have a list of IP addresses and I need to retrieve the geolocation details for each of them. Can you show me how to use the `getGeolocationDetailsList` function?\\n\\nFunction Calls: [\"getGeolocationDetailsList(ip_addresses=[\\'192.168.1.1\\', \\'10.0.0.1\\', \\'172.16.0.1\\'])\"]', 'Query: I want to verify the existence of the patent with the patent number \"TW202100345\". Please check if this patent exists in the database.\\nFunction Calls: [\"searchPatents(patentNumber=\\'TW202100345\\')\"]', 'Query: I want to verify the existence of the patent with the patent number \"TW202100345\". Please search for this patent using the `searchPatents` function.\\n\\nFunction Calls: [\"searchPatents(patentNumber=\\'TW202100345\\')\"]', 'Query: I am trying to verify the existence of a patent with the patent number \"TW202100345\" in the Taiwan patent search system.\\nFunction Calls: [\"searchPatents(patentNumber=\\'TW202100345\\')\"]'], ['Query: I want to verify the existence of the patent with the patent number \"TW202100345\". Please check if this patent exists in the database.\\nFunction Calls: [\"searchPatents(patentNumber=\\'TW202100345\\')\"]', 'Query: I want to verify the existence of the patent with the patent number \"TW202100345\". Please search for this patent using the `searchPatents` function.\\n\\nFunction Calls: [\"searchPatents(patentNumber=\\'TW202100345\\')\"]', 'Query: I am trying to verify the existence of a patent with the patent number \"TW202100345\" in the Taiwan patent search system.\\nFunction Calls: [\"searchPatents(patentNumber=\\'TW202100345\\')\"]', 'Query: I want to verify the existence of a specific patent with the patent number \"TW202100345\" in the Taiwan patent search system.\\nFunction Calls: [\"searchPatents(patentNumber=\\'TW202100345\\')\"]'], ['Query: I want to verify the existence of the patent with the patent number \"TW202100345\". Please search for this patent using the `searchPatents` function.\\n\\nFunction Calls: [\"searchPatents(patentNumber=\\'TW202100345\\')\"]', 'Query: I am trying to verify the existence of a patent with the patent number \"TW202100345\" in the Taiwan patent search system.\\nFunction Calls: [\"searchPatents(patentNumber=\\'TW202100345\\')\"]', 'Query: I want to verify the existence of a specific patent with the patent number \"TW202100345\" in the Taiwan patent search system.\\nFunction Calls: [\"searchPatents(patentNumber=\\'TW202100345\\')\"]', 'Query: Update the details of a user with ID \"123\" in the \"Users\" database. The new data for the user is {\"name\": \"John Doe\", \"email\": \"johndoe@example.com\", \"age\": 30}.\\n\\nFunction Calls: [\"updateData(database=\\'Users\\', id=\\'123\\', data={\\'name\\': \\'John Doe\\', \\'email\\': \\'johndoe@example.com\\', \\'age\\': 30})\"]'], ['Query: I am trying to verify the existence of a patent with the patent number \"TW202100345\" in the Taiwan patent search system.\\nFunction Calls: [\"searchPatents(patentNumber=\\'TW202100345\\')\"]', 'Query: I want to verify the existence of a specific patent with the patent number \"TW202100345\" in the Taiwan patent search system.\\nFunction Calls: [\"searchPatents(patentNumber=\\'TW202100345\\')\"]', 'Query: Update the details of a user with ID \"123\" in the \"Users\" database. The new data for the user is {\"name\": \"John Doe\", \"email\": \"johndoe@example.com\", \"age\": 30}.\\n\\nFunction Calls: [\"updateData(database=\\'Users\\', id=\\'123\\', data={\\'name\\': \\'John Doe\\', \\'email\\': \\'johndoe@example.com\\', \\'age\\': 30})\"]', 'Query: Update the details of a customer in the \"Customers\" database with the ID \"123\".\\n\\nFunction Calls: [\"updateData(database=\\'Customers\\', id=\\'123\\', data={\\'name\\': \\'John Smith\\', \\'email\\': \\'johnsmith@example.com\\', \\'phone\\': \\'123-456-7890\\'})\"]'], ['Query: I want to verify the existence of a specific patent with the patent number \"TW202100345\" in the Taiwan patent search system.\\nFunction Calls: [\"searchPatents(patentNumber=\\'TW202100345\\')\"]', 'Query: Update the details of a user with ID \"123\" in the \"Users\" database. The new data for the user is {\"name\": \"John Doe\", \"email\": \"johndoe@example.com\", \"age\": 30}.\\n\\nFunction Calls: [\"updateData(database=\\'Users\\', id=\\'123\\', data={\\'name\\': \\'John Doe\\', \\'email\\': \\'johndoe@example.com\\', \\'age\\': 30})\"]', 'Query: Update the details of a customer in the \"Customers\" database with the ID \"123\".\\n\\nFunction Calls: [\"updateData(database=\\'Customers\\', id=\\'123\\', data={\\'name\\': \\'John Smith\\', \\'email\\': \\'johnsmith@example.com\\', \\'phone\\': \\'123-456-7890\\'})\"]', 'Query: Update the data of a book in the \"Books\" database with the ID \"123\" to {\"title\": \"Pride and Prejudice\", \"author\": \"Jane Austen\", \"year\": 1813}.\\n\\nFunction Calls: [\"updateData(database=\\'Books\\', id=\\'123\\', data={\\'title\\': \\'Pride and Prejudice\\', \\'author\\': \\'Jane Austen\\', \\'year\\': 1813})\"]'], ['Query: Update the details of a user with ID \"123\" in the \"Users\" database. The new data for the user is {\"name\": \"John Doe\", \"email\": \"johndoe@example.com\", \"age\": 30}.\\n\\nFunction Calls: [\"updateData(database=\\'Users\\', id=\\'123\\', data={\\'name\\': \\'John Doe\\', \\'email\\': \\'johndoe@example.com\\', \\'age\\': 30})\"]', 'Query: Update the details of a customer in the \"Customers\" database with the ID \"123\".\\n\\nFunction Calls: [\"updateData(database=\\'Customers\\', id=\\'123\\', data={\\'name\\': \\'John Smith\\', \\'email\\': \\'johnsmith@example.com\\', \\'phone\\': \\'123-456-7890\\'})\"]', 'Query: Update the data of a book in the \"Books\" database with the ID \"123\" to {\"title\": \"Pride and Prejudice\", \"author\": \"Jane Austen\", \"year\": 1813}.\\n\\nFunction Calls: [\"updateData(database=\\'Books\\', id=\\'123\\', data={\\'title\\': \\'Pride and Prejudice\\', \\'author\\': \\'Jane Austen\\', \\'year\\': 1813})\"]', 'Query: Update the details of a user in the \"Users\" database with the ID \"123\".\\n\\nFunction Calls: [\"updateData(database=\\'Users\\', id=\\'123\\', data={\\'name\\': \\'John Doe\\', \\'email\\': \\'john.doe@example.com\\', \\'age\\': 30})\"]'], ['Query: Update the details of a customer in the \"Customers\" database with the ID \"123\".\\n\\nFunction Calls: [\"updateData(database=\\'Customers\\', id=\\'123\\', data={\\'name\\': \\'John Smith\\', \\'email\\': \\'johnsmith@example.com\\', \\'phone\\': \\'123-456-7890\\'})\"]', 'Query: Update the data of a book in the \"Books\" database with the ID \"123\" to {\"title\": \"Pride and Prejudice\", \"author\": \"Jane Austen\", \"year\": 1813}.\\n\\nFunction Calls: [\"updateData(database=\\'Books\\', id=\\'123\\', data={\\'title\\': \\'Pride and Prejudice\\', \\'author\\': \\'Jane Austen\\', \\'year\\': 1813})\"]', 'Query: Update the details of a user in the \"Users\" database with the ID \"123\".\\n\\nFunction Calls: [\"updateData(database=\\'Users\\', id=\\'123\\', data={\\'name\\': \\'John Doe\\', \\'email\\': \\'john.doe@example.com\\', \\'age\\': 30})\"]', 'Query: I want to create a custom alias for my shortened URL, but I\\'m not sure if the alias is available. Can you help me check its availability?\\nFunction Calls: [\"checkAliasAvailability(alias=\\'mycustomalias\\')\"]'], ['Query: Update the data of a book in the \"Books\" database with the ID \"123\" to {\"title\": \"Pride and Prejudice\", \"author\": \"Jane Austen\", \"year\": 1813}.\\n\\nFunction Calls: [\"updateData(database=\\'Books\\', id=\\'123\\', data={\\'title\\': \\'Pride and Prejudice\\', \\'author\\': \\'Jane Austen\\', \\'year\\': 1813})\"]', 'Query: Update the details of a user in the \"Users\" database with the ID \"123\".\\n\\nFunction Calls: [\"updateData(database=\\'Users\\', id=\\'123\\', data={\\'name\\': \\'John Doe\\', \\'email\\': \\'john.doe@example.com\\', \\'age\\': 30})\"]', 'Query: I want to create a custom alias for my shortened URL, but I\\'m not sure if the alias is available. Can you help me check its availability?\\nFunction Calls: [\"checkAliasAvailability(alias=\\'mycustomalias\\')\"]', 'Query: I want to check if the custom alias \"myalias\" is available for use in the URL shortener service.\\nFunction Calls: [\"checkAliasAvailability(alias=\\'myalias\\')\"]'], ['Query: Update the details of a user in the \"Users\" database with the ID \"123\".\\n\\nFunction Calls: [\"updateData(database=\\'Users\\', id=\\'123\\', data={\\'name\\': \\'John Doe\\', \\'email\\': \\'john.doe@example.com\\', \\'age\\': 30})\"]', 'Query: I want to create a custom alias for my shortened URL, but I\\'m not sure if the alias is available. Can you help me check its availability?\\nFunction Calls: [\"checkAliasAvailability(alias=\\'mycustomalias\\')\"]', 'Query: I want to check if the custom alias \"myalias\" is available for use in the URL shortener service.\\nFunction Calls: [\"checkAliasAvailability(alias=\\'myalias\\')\"]', 'Query: I want to check if the custom alias \"myalias\" is available for use.\\nFunction Calls: [\"checkAliasAvailability(alias=\\'myalias\\')\"]'], ['Query: I want to create a custom alias for my shortened URL, but I\\'m not sure if the alias is available. Can you help me check its availability?\\nFunction Calls: [\"checkAliasAvailability(alias=\\'mycustomalias\\')\"]', 'Query: I want to check if the custom alias \"myalias\" is available for use in the URL shortener service.\\nFunction Calls: [\"checkAliasAvailability(alias=\\'myalias\\')\"]', 'Query: I want to check if the custom alias \"myalias\" is available for use.\\nFunction Calls: [\"checkAliasAvailability(alias=\\'myalias\\')\"]', 'Query: I want to check if the custom alias \"myalias\" is available for use as a shortened URL.\\nFunction Calls: [\"checkAliasAvailability(alias=\\'myalias\\')\"]'], ['Query: I want to check if the custom alias \"myalias\" is available for use in the URL shortener service.\\nFunction Calls: [\"checkAliasAvailability(alias=\\'myalias\\')\"]', 'Query: I want to check if the custom alias \"myalias\" is available for use.\\nFunction Calls: [\"checkAliasAvailability(alias=\\'myalias\\')\"]', 'Query: I want to check if the custom alias \"myalias\" is available for use as a shortened URL.\\nFunction Calls: [\"checkAliasAvailability(alias=\\'myalias\\')\"]', 'Query: I want to retrieve the historical price data for Bitcoin from January 1, 2021, to December 31, 2021. Can you show me how to use the CryptingUp API to get this information?\\n\\nFunction Calls: [\"getHistoricalPrices(cryptocurrency=\\'Bitcoin\\', start_date=\\'2021-01-01\\', end_date=\\'2021-12-31\\')\"]'], ['Query: I want to check if the custom alias \"myalias\" is available for use.\\nFunction Calls: [\"checkAliasAvailability(alias=\\'myalias\\')\"]', 'Query: I want to check if the custom alias \"myalias\" is available for use as a shortened URL.\\nFunction Calls: [\"checkAliasAvailability(alias=\\'myalias\\')\"]', 'Query: I want to retrieve the historical price data for Bitcoin from January 1, 2021, to December 31, 2021. Can you show me how to use the CryptingUp API to get this information?\\n\\nFunction Calls: [\"getHistoricalPrices(cryptocurrency=\\'Bitcoin\\', start_date=\\'2021-01-01\\', end_date=\\'2021-12-31\\')\"]', 'Query: I want to retrieve the historical price data for Bitcoin from January 1, 2021, to January 31, 2021. Can you use the CryptingUp API to retrieve this information for me?\\nFunction Calls: [\"getHistoricalPrices(cryptocurrency=\\'Bitcoin\\', start_date=\\'2021-01-01\\', end_date=\\'2021-01-31\\')\"]'], ['Query: I want to check if the custom alias \"myalias\" is available for use as a shortened URL.\\nFunction Calls: [\"checkAliasAvailability(alias=\\'myalias\\')\"]', 'Query: I want to retrieve the historical price data for Bitcoin from January 1, 2021, to December 31, 2021. Can you show me how to use the CryptingUp API to get this information?\\n\\nFunction Calls: [\"getHistoricalPrices(cryptocurrency=\\'Bitcoin\\', start_date=\\'2021-01-01\\', end_date=\\'2021-12-31\\')\"]', 'Query: I want to retrieve the historical price data for Bitcoin from January 1, 2021, to January 31, 2021. Can you use the CryptingUp API to retrieve this information for me?\\nFunction Calls: [\"getHistoricalPrices(cryptocurrency=\\'Bitcoin\\', start_date=\\'2021-01-01\\', end_date=\\'2021-01-31\\')\"]', 'Query: I want to retrieve the historical price data for Bitcoin from January 1, 2022, to January 31, 2022. Can you use the CryptingUp API to retrieve this information for me?\\n\\nFunction Calls: [\"getHistoricalPrices(cryptocurrency=\\'Bitcoin\\', start_date=\\'2022-01-01\\', end_date=\\'2022-01-31\\')\"]'], ['Query: I want to retrieve the historical price data for Bitcoin from January 1, 2021, to December 31, 2021. Can you show me how to use the CryptingUp API to get this information?\\n\\nFunction Calls: [\"getHistoricalPrices(cryptocurrency=\\'Bitcoin\\', start_date=\\'2021-01-01\\', end_date=\\'2021-12-31\\')\"]', 'Query: I want to retrieve the historical price data for Bitcoin from January 1, 2021, to January 31, 2021. Can you use the CryptingUp API to retrieve this information for me?\\nFunction Calls: [\"getHistoricalPrices(cryptocurrency=\\'Bitcoin\\', start_date=\\'2021-01-01\\', end_date=\\'2021-01-31\\')\"]', 'Query: I want to retrieve the historical price data for Bitcoin from January 1, 2022, to January 31, 2022. Can you use the CryptingUp API to retrieve this information for me?\\n\\nFunction Calls: [\"getHistoricalPrices(cryptocurrency=\\'Bitcoin\\', start_date=\\'2022-01-01\\', end_date=\\'2022-01-31\\')\"]', 'Query: I want to retrieve historical price data for Bitcoin from January 1, 2021, to January 31, 2021. Can you use the CryptingUp API to retrieve this information for me?\\nFunction Calls: [\"getHistoricalPrices(cryptocurrency=\\'Bitcoin\\', start_date=\\'2021-01-01\\', end_date=\\'2021-01-31\\')\"]'], ['Query: I want to retrieve the historical price data for Bitcoin from January 1, 2021, to January 31, 2021. Can you use the CryptingUp API to retrieve this information for me?\\nFunction Calls: [\"getHistoricalPrices(cryptocurrency=\\'Bitcoin\\', start_date=\\'2021-01-01\\', end_date=\\'2021-01-31\\')\"]', 'Query: I want to retrieve the historical price data for Bitcoin from January 1, 2022, to January 31, 2022. Can you use the CryptingUp API to retrieve this information for me?\\n\\nFunction Calls: [\"getHistoricalPrices(cryptocurrency=\\'Bitcoin\\', start_date=\\'2022-01-01\\', end_date=\\'2022-01-31\\')\"]', 'Query: I want to retrieve historical price data for Bitcoin from January 1, 2021, to January 31, 2021. Can you use the CryptingUp API to retrieve this information for me?\\nFunction Calls: [\"getHistoricalPrices(cryptocurrency=\\'Bitcoin\\', start_date=\\'2021-01-01\\', end_date=\\'2021-01-31\\')\"]', 'Query: I want to find anime art by searching for specific tags (cute, school uniform) and retrieve a list of matching works. Can you show me an example of how to use the `searchWorks` function?\\n\\nFunction Calls: [\"searchWorks(tags=\\'cute school uniform\\')\"]'], ['Query: I want to retrieve the historical price data for Bitcoin from January 1, 2022, to January 31, 2022. Can you use the CryptingUp API to retrieve this information for me?\\n\\nFunction Calls: [\"getHistoricalPrices(cryptocurrency=\\'Bitcoin\\', start_date=\\'2022-01-01\\', end_date=\\'2022-01-31\\')\"]', 'Query: I want to retrieve historical price data for Bitcoin from January 1, 2021, to January 31, 2021. Can you use the CryptingUp API to retrieve this information for me?\\nFunction Calls: [\"getHistoricalPrices(cryptocurrency=\\'Bitcoin\\', start_date=\\'2021-01-01\\', end_date=\\'2021-01-31\\')\"]', 'Query: I want to find anime art by searching for specific tags (cute, school uniform) and retrieve a list of matching works. Can you show me an example of how to use the `searchWorks` function?\\n\\nFunction Calls: [\"searchWorks(tags=\\'cute school uniform\\')\"]', 'Query: I want to find anime art with the tag \"neko\" and retrieve a list of matching works. Can you show me an array of work objects, each containing their ID, title, and artist information?\\nFunction Calls: [\"searchWorks(tags=\\'neko\\')\"]'], ['Query: I want to retrieve historical price data for Bitcoin from January 1, 2021, to January 31, 2021. Can you use the CryptingUp API to retrieve this information for me?\\nFunction Calls: [\"getHistoricalPrices(cryptocurrency=\\'Bitcoin\\', start_date=\\'2021-01-01\\', end_date=\\'2021-01-31\\')\"]', 'Query: I want to find anime art by searching for specific tags (cute, school uniform) and retrieve a list of matching works. Can you show me an example of how to use the `searchWorks` function?\\n\\nFunction Calls: [\"searchWorks(tags=\\'cute school uniform\\')\"]', 'Query: I want to find anime art with the tag \"neko\" and retrieve a list of matching works. Can you show me an array of work objects, each containing their ID, title, and artist information?\\nFunction Calls: [\"searchWorks(tags=\\'neko\\')\"]', 'Query: I am looking for anime art that matches the tags \"fantasy\" and \"magical girl\". Can you help me find the works that have these tags?\\nFunction Calls: [\"searchWorks(tags=\\'fantasy magical girl\\')\"]'], ['Query: I want to find anime art by searching for specific tags (cute, school uniform) and retrieve a list of matching works. Can you show me an example of how to use the `searchWorks` function?\\n\\nFunction Calls: [\"searchWorks(tags=\\'cute school uniform\\')\"]', 'Query: I want to find anime art with the tag \"neko\" and retrieve a list of matching works. Can you show me an array of work objects, each containing their ID, title, and artist information?\\nFunction Calls: [\"searchWorks(tags=\\'neko\\')\"]', 'Query: I am looking for anime art that matches the tags \"fantasy\" and \"magical girl\". Can you help me find the works that have these tags?\\nFunction Calls: [\"searchWorks(tags=\\'fantasy magical girl\\')\"]', 'Query: I want to find anime art that includes the tags \"fantasy\" and \"magic\". Can you show me a list of matching works, each containing their ID, title, and a brief description?\\nFunction Calls: [\"searchWorks(tags=\\'fantasy magic\\')\"]']]\n"
     ]
    }
   ],
   "source": [
    "with open('./tool_gpt35_step2_generate_new_none.json', 'r', encoding='utf8') as f:\n",
    "    new_4_demos_list_for_none = json.load(f)\n",
    "none_list = []\n",
    "for i in range(21):\n",
    "    new_list = new_4_demos_list_for_none[i:i+4]\n",
    "    none_list.append(new_list)\n",
    "print(none_list)"
   ]
  },
  {
   "cell_type": "code",
   "execution_count": 3,
   "metadata": {},
   "outputs": [
    {
     "name": "stdout",
     "output_type": "stream",
     "text": [
      "15\n"
     ]
    }
   ],
   "source": [
    "n3_k2_none_content = []\n",
    "with open('/workspace/self-demostrate/Self-Demonstrate/result/self_demos/tool_gpt35_n3_k2_none_step4.json', 'r', encoding='utf8') as f:\n",
    "    n3_k2_none_content = json.load(f)\n",
    "print(len(n3_k2_none_content))\n",
    "with open('/workspace/self-demostrate/Self-Demonstrate/result/self_demos/tool_gpt35_n3_k2_step3.json', 'r', encoding='utf8') as f:\n",
    "    n3_k2_content = json.load(f)\n",
    "none_idx = [156, 176, 276, 325, 441, 528, 549, 563, 663, 736, 771, 778, 823, 907, 1046]\n",
    "i = 0\n",
    "for idx in none_idx:\n",
    "    n3_k2_content[idx] = n3_k2_none_content[i]\n",
    "    i += 1\n",
    "    \n"
   ]
  },
  {
   "cell_type": "code",
   "execution_count": null,
   "metadata": {},
   "outputs": [],
   "source": [
    "with open('/workspace/self-demostrate/Self-Demonstrate/result/self_demos/tool_gpt35_n3_k2_step3.json', 'w', encoding='utf8') as f:\n",
    "    json.dump(n3_k2_content, f, ensure_ascii=False, indent=4)"
   ]
  },
  {
   "cell_type": "code",
   "execution_count": 10,
   "metadata": {},
   "outputs": [],
   "source": [
    "i = 0\n",
    "for idx in none_idx:\n",
    "    new_4_demos_list[idx] = none_list[i]\n",
    "    i += 1\n",
    "\n",
    "with open('./tool_gpt35_step2_generate_9.json', 'w', encoding='utf-8') as f:\n",
    "    json.dump(new_4_demos_list, f, ensure_ascii=False, indent=4)"
   ]
  },
  {
   "cell_type": "markdown",
   "metadata": {},
   "source": [
    "合并"
   ]
  },
  {
   "cell_type": "code",
   "execution_count": 11,
   "metadata": {},
   "outputs": [
    {
     "name": "stderr",
     "output_type": "stream",
     "text": [
      "1057it [00:00, 740996.04it/s]"
     ]
    },
    {
     "name": "stderr",
     "output_type": "stream",
     "text": [
      "\n"
     ]
    }
   ],
   "source": [
    "new_9_demos_list = []\n",
    "for origin_5_demos, new_4_demos in tqdm(zip(origin_5_demos_list, new_4_demos_list)):\n",
    "    origin_5_demos.extend(new_4_demos)\n",
    "    new_9_demos_list.append(origin_5_demos)\n",
    "\n",
    "with open('./demos_9_step2_result.json', 'w', encoding='utf-8') as f:\n",
    "    json.dump(new_9_demos_list, f, ensure_ascii=False, indent=4)"
   ]
  },
  {
   "cell_type": "code",
   "execution_count": null,
   "metadata": {},
   "outputs": [],
   "source": []
  }
 ],
 "metadata": {
  "kernelspec": {
   "display_name": "base",
   "language": "python",
   "name": "python3"
  },
  "language_info": {
   "codemirror_mode": {
    "name": "ipython",
    "version": 3
   },
   "file_extension": ".py",
   "mimetype": "text/x-python",
   "name": "python",
   "nbconvert_exporter": "python",
   "pygments_lexer": "ipython3",
   "version": "3.7.10"
  }
 },
 "nbformat": 4,
 "nbformat_minor": 2
}
