{
 "cells": [
  {
   "cell_type": "markdown",
   "metadata": {},
   "source": [
    "# MATH data process\n"
   ]
  },
  {
   "cell_type": "code",
   "execution_count": null,
   "metadata": {},
   "outputs": [],
   "source": [
    "import os\n",
    "import json\n",
    "import random\n",
    "from copy import deepcopy\n",
    "import re"
   ]
  },
  {
   "cell_type": "code",
   "execution_count": null,
   "metadata": {},
   "outputs": [],
   "source": [
    "test_data = [\n",
    "    {\n",
    "        \"problem\": \"How many vertical asymptotes does the graph of $y=\\\\frac{2}{x^2+x-6}$ have?\",\n",
    "        \"level\": \"Level 3\",\n",
    "        \"type\": \"Algebra\",\n",
    "        \"solution\": \"The denominator of the rational function factors into $x^2+x-6=(x-2)(x+3)$. Since the numerator is always nonzero, there is a vertical asymptote whenever the denominator is $0$, which occurs for $x = 2$ and $x = -3$.  Therefore, the graph has $\\\\boxed{2}$ vertical asymptotes.\"\n",
    "    },\n",
    "    {\n",
    "        \"problem\": \"What is the positive difference between $120\\\\%$ of 30 and $130\\\\%$ of 20?\",\n",
    "        \"level\": \"Level 1\",\n",
    "        \"type\": \"Algebra\",\n",
    "        \"solution\": \"One hundred twenty percent of 30 is $120\\\\cdot30\\\\cdot\\\\frac{1}{100}=36$, and $130\\\\%$ of 20 is $ 130\\\\cdot 20\\\\cdot\\\\frac{1}{100}=26$.  The difference between 36 and 26 is $\\\\boxed{10}$.\"\n",
    "    },\n",
    "    {\n",
    "        \"problem\": \"The matrix for projecting onto a certain line $\\\\ell,$ which passes through the origin, is given by\\n\\\\[\\\\begin{pmatrix} \\\\frac{1}{50} & \\\\frac{7}{50} \\\\\\\\ \\\\frac{7}{50} & \\\\frac{49}{50} \\\\end{pmatrix}.\\\\]Find the direction vector of line $\\\\ell.$  Enter your answer in the form $\\\\begin{pmatrix} a \\\\\\\\ b \\\\end{pmatrix},$ where $a,$ and $b$ are integers, $a > 0,$ and $\\\\gcd(|a|,|b|) = 1.$\",\n",
    "        \"level\": \"Level 3\",\n",
    "        \"type\": \"Precalculus\",\n",
    "        \"solution\": \"Let $\\\\mathbf{P}$ denote the given matrix, so $\\\\mathbf{P} \\\\mathbf{v}$ is the projection of $\\\\mathbf{v}$ onto $\\\\ell.$  In particular, $\\\\mathbf{P} \\\\mathbf{v}$ lies on $\\\\ell$ for any vector $\\\\mathbf{v}.$  So, we can take $\\\\mathbf{v} = \\\\mathbf{i}.$  Then\\n\\\\[\\\\mathbf{P} \\\\mathbf{i} = \\\\begin{pmatrix} \\\\frac{1}{50} \\\\\\\\ \\\\frac{7}{50} \\\\end{pmatrix} = \\\\frac{1}{50} \\\\begin{pmatrix} 1 \\\\\\\\ 7 \\\\end{pmatrix}.\\\\]Thus, the direction vector we seek is $\\\\boxed{\\\\begin{pmatrix} 1 \\\\\\\\ 7 \\\\end{pmatrix}}.$\"\n",
    "    }\n",
    "]"
   ]
  },
  {
   "cell_type": "code",
   "execution_count": null,
   "metadata": {},
   "outputs": [],
   "source": [
    "def split_list(data_list: list) -> dict:\n",
    "    level_lists = [[] for _ in range(5)]\n",
    "    for data in data_list:\n",
    "        level = int(data.get(\"level\")[-1]) - 1\n",
    "        level_lists[level].append(data)\n",
    "    return level_lists"
   ]
  },
  {
   "cell_type": "code",
   "execution_count": null,
   "metadata": {},
   "outputs": [],
   "source": [
    "def last_boxed_only_string(answer: str):\n",
    "    idx = answer.rfind(\"\\\\boxed\")\n",
    "    if idx < 0:\n",
    "        idx = answer.rfind(\"\\\\fbox\")\n",
    "        if idx < 0:\n",
    "            return None\n",
    "\n",
    "    i = idx\n",
    "    right_brace_idx = None\n",
    "    num_left_braces_open = 0\n",
    "    while i < len(answer):\n",
    "        if answer[i] == \"{\":\n",
    "            num_left_braces_open += 1\n",
    "        if answer[i] == \"}\":\n",
    "            num_left_braces_open -= 1\n",
    "            if num_left_braces_open == 0:\n",
    "                right_brace_idx = i\n",
    "                break\n",
    "        i += 1\n",
    "    \n",
    "    if right_brace_idx == None:\n",
    "        retval = None\n",
    "    else:\n",
    "        retval = answer[idx:right_brace_idx + 1]\n",
    "    \n",
    "    return retval\n",
    "\n",
    "def get_answer(answer: str) -> str:\n",
    "    boxed_content = last_boxed_only_string(answer)\n",
    "\n",
    "    boxed_content = boxed_content[7:]\n",
    "    boxed_content = boxed_content[:-1]\n",
    "    \n",
    "    if not boxed_content: return ''\n",
    "    return boxed_content\n",
    "\n",
    "\n",
    "get_answer(test_data[2]['solution'])"
   ]
  },
  {
   "cell_type": "code",
   "execution_count": null,
   "metadata": {},
   "outputs": [],
   "source": [
    "current_path = os.getcwd()\n",
    "file_names = [file for file in os.listdir(current_path) if file.endswith(\".json\")]\n",
    "print(file_names)\n",
    "# file_names.remove('math_raw_1k.json')\n",
    "# file_names.remove('math_1k_demos.json')\n",
    "\n",
    "all_data = {}\n",
    "all_data_list = []\n",
    "for file_name in file_names:\n",
    "    file_path = os.path.join(current_path, file_name)\n",
    "    type_name = file_name[:-5]\n",
    "    type_data_list = []\n",
    "    with open(file_path, \"r\", encoding=\"utf-8\") as f:\n",
    "        type_data_list = json.load(f)\n",
    "        all_data[type_name] = split_list(type_data_list)\n",
    "        print(type_name, len(type_data_list))\n",
    "        all_data_list.extend(type_data_list)"
   ]
  },
  {
   "cell_type": "code",
   "execution_count": null,
   "metadata": {},
   "outputs": [],
   "source": [
    "type_list = [file[:-5] for file in file_names]"
   ]
  },
  {
   "cell_type": "code",
   "execution_count": null,
   "metadata": {},
   "outputs": [],
   "source": [
    "print(len(all_data))\n",
    "print(len(all_data_list))\n",
    "print(type_list)"
   ]
  },
  {
   "cell_type": "code",
   "execution_count": null,
   "metadata": {},
   "outputs": [],
   "source": [
    "level_cnt = [0, 0, 0, 0, 0]\n",
    "\n",
    "level_dict = {\n",
    "    \"Level 1\": 0,\n",
    "    \"Level 2\": 1,\n",
    "    \"Level 3\": 2,\n",
    "    \"Level 4\": 3,\n",
    "    \"Level 5\": 4\n",
    "}\n",
    "\n",
    "for data in all_data_list:\n",
    "    level_cnt[level_dict[data['level']]] += 1\n",
    "\n",
    "level_cnt = [level / 50 for level in level_cnt]\n",
    "print(level_cnt)"
   ]
  },
  {
   "cell_type": "markdown",
   "metadata": {},
   "source": [
    "random sample"
   ]
  },
  {
   "cell_type": "code",
   "execution_count": null,
   "metadata": {},
   "outputs": [],
   "source": [
    "data_1k = random.sample(all_data_list, 1000)\n",
    "with open('./math_raw_1k.json', 'w', encoding='utf8') as f:\n",
    "    json.dump(data_1k, f, ensure_ascii=False, indent=4)"
   ]
  },
  {
   "cell_type": "markdown",
   "metadata": {},
   "source": [
    "make demos"
   ]
  },
  {
   "cell_type": "code",
   "execution_count": null,
   "metadata": {},
   "outputs": [],
   "source": [
    "with open('./math_raw_1k.json', 'r', encoding='utf8') as f:\n",
    "    data_list = json.load(f)\n",
    "level_cnt = [0, 0, 0, 0, 0]\n",
    "\n",
    "level_dict = {\n",
    "    \"Level 1\": 0,\n",
    "    \"Level 2\": 1,\n",
    "    \"Level 3\": 2,\n",
    "    \"Level 4\": 3,\n",
    "    \"Level 5\": 4\n",
    "}\n",
    "\n",
    "for data in data_list:\n",
    "    level_cnt[level_dict[data['level']]] += 1\n",
    "level_cnt = [level / 10 for level in level_cnt]\n",
    "print(level_cnt)"
   ]
  },
  {
   "cell_type": "code",
   "execution_count": null,
   "metadata": {},
   "outputs": [],
   "source": [
    "type_dict = {\n",
    "    'Intermediate Algebra': 'intermediate_algebra',\n",
    "    'Precalculus': 'precalculus',\n",
    "    'Number Theory': 'number_theory',\n",
    "    'Geometry': 'geometry',\n",
    "    'Prealgebra': 'prealgebra',\n",
    "    'Algebra': 'algebra',\n",
    "    'Counting & Probability': 'counting_and_probability'\n",
    "}\n",
    "\n",
    "for data in data_list:\n",
    "    data_type = type_dict[data.get(\"type\")]\n",
    "    level_idx = int(data.get(\"level\")[-1]) - 1\n",
    "    demos = []\n",
    "    selected_type_list = deepcopy(type_list)\n",
    "    selected_type_list.remove(data_type)\n",
    "    selected_type_list = random.sample(selected_type_list, 3)\n",
    "    for selected_type in selected_type_list:\n",
    "        demo = random.choice(all_data[selected_type][level_idx])\n",
    "        demo['answer'] = get_answer(demo['solution'])\n",
    "        demos.append(demo)\n",
    "    data[\"demos\"] = demos\n",
    "    data[\"answer\"] = get_answer(data[\"solution\"])\n",
    "    \n",
    "with open('./math_1k_demos.json', 'w', encoding='utf8') as f:\n",
    "    json.dump(data_list, f, ensure_ascii=False, indent=4)\n",
    "    "
   ]
  }
 ],
 "metadata": {
  "kernelspec": {
   "display_name": "base",
   "language": "python",
   "name": "python3"
  },
  "language_info": {
   "codemirror_mode": {
    "name": "ipython",
    "version": 3
   },
   "file_extension": ".py",
   "mimetype": "text/x-python",
   "name": "python",
   "nbconvert_exporter": "python",
   "pygments_lexer": "ipython3",
   "version": "3.7.10"
  }
 },
 "nbformat": 4,
 "nbformat_minor": 2
}
