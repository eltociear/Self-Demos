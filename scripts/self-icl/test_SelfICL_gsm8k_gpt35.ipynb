{
 "cells": [
  {
   "cell_type": "code",
   "execution_count": null,
   "metadata": {},
   "outputs": [],
   "source": [
    "import os\n",
    "import sys\n",
    "sys.path.append('../../')\n",
    "\n",
    "data_path = \"../../data/gsm8k/test_demos.json\"\n",
    "result_path = \"../../result/self_icl\"\n",
    "keys_file_path = \"../../utils/raw_keys.txt\"\n",
    "\n",
    "\n",
    "if not os.path.exists(result_path):\n",
    "    os.makedirs(result_path)\n",
    "\n",
    "suffix = \"gsm8k_gpt35\""
   ]
  },
  {
   "cell_type": "markdown",
   "metadata": {},
   "source": [
    "## load dataset"
   ]
  },
  {
   "cell_type": "code",
   "execution_count": null,
   "metadata": {},
   "outputs": [],
   "source": [
    "import json\n",
    "\n",
    "with open(data_path, 'r') as f:\n",
    "    raw_data = json.load(f)\n",
    "    \n",
    "skip_list = [0] * len(raw_data)"
   ]
  },
  {
   "cell_type": "code",
   "execution_count": null,
   "metadata": {},
   "outputs": [],
   "source": [
    "from tqdm import tqdm\n",
    "import json\n",
    "\n",
    "data = []\n",
    "\n",
    "for raw_item in tqdm(raw_data):\n",
    "    item = {}\n",
    "    item['Question'] = raw_item['problem']\n",
    "    item['Answer'] = raw_item['answer']\n",
    "    \n",
    "    item['Demos_Q'] = ''\n",
    "    item['Demos_QA'] = ''\n",
    "    \n",
    "    for demo in raw_item['demos']:\n",
    "        item['Demos_Q'] += f\"Question: {demo['problem']}\\n\\n\"\n",
    "        item['Demos_QA'] += f\"Question: {demo['problem']}\\nAnswer: {demo['solution']}\\n\\n\"\n",
    "        \n",
    "    data.append(item)\n",
    "    \n",
    "data[0]"
   ]
  },
  {
   "cell_type": "code",
   "execution_count": null,
   "metadata": {},
   "outputs": [],
   "source": [
    "from utils.openai import OpenAIKey, create_response_chat\n",
    "\n",
    "MODEL = \"gpt-3.5-turbo\"\n",
    "openai_key = OpenAIKey(keys_file_path)"
   ]
  },
  {
   "cell_type": "markdown",
   "metadata": {},
   "source": [
    "## Step 1: Pesudo Query\n"
   ]
  },
  {
   "cell_type": "code",
   "execution_count": null,
   "metadata": {},
   "outputs": [],
   "source": [
    "step1_template = \"\"\"Following is an example instance for the task: mathematical questions solving. Please come up with 3 new, diverse, and creative questions for the task.\n",
    "\n",
    "# Question:\n",
    "{Question}\n",
    "\n",
    "# Instruction:\n",
    "Please come up with 3 new, diverse, and creative questions for the task.\n",
    "For each question:\n",
    "- After \"Question: \", write your generated question here.\"\"\""
   ]
  },
  {
   "cell_type": "code",
   "execution_count": null,
   "metadata": {},
   "outputs": [],
   "source": [
    "prompt_list = []\n",
    "\n",
    "for item in data:\n",
    "    prompt = step1_template.format(\n",
    "        Question=item['Question']\n",
    "    )\n",
    "    \n",
    "    prompt_list.append(prompt)\n",
    "    \n",
    "print(prompt_list[0])"
   ]
  },
  {
   "cell_type": "code",
   "execution_count": null,
   "metadata": {},
   "outputs": [],
   "source": [
    "import re\n",
    "from tqdm import tqdm\n",
    "\n",
    "raw_step1_result_list = []\n",
    "\n",
    "for i in tqdm(range(len(prompt_list))):\n",
    "    try_times = 0\n",
    "    while try_times < 5:\n",
    "        try: \n",
    "            response = create_response_chat(\n",
    "                MODEL,\n",
    "                prompt_input=[\n",
    "                    {\"role\": \"system\", \"content\": \"You are a helpful assistant.\"},\n",
    "                    {\"role\": \"user\", \"content\": prompt_list[i]}\n",
    "                ],\n",
    "                max_tokens=512,\n",
    "                temperature=0.0\n",
    "            )\n",
    "            # print(response)\n",
    "            raw_step1_result_list.append(response)\n",
    "            break\n",
    "        except Exception as e:\n",
    "            openai_key.process_error(e)"
   ]
  },
  {
   "cell_type": "code",
   "execution_count": null,
   "metadata": {},
   "outputs": [],
   "source": [
    "with open(os.path.join(result_path, f\"{suffix}_step1.json\"), \"w\") as f:\n",
    "    json.dump(raw_step1_result_list, f, indent=4)"
   ]
  },
  {
   "cell_type": "code",
   "execution_count": null,
   "metadata": {},
   "outputs": [],
   "source": [
    "with open(os.path.join(result_path, f\"{suffix}_step1.json\"), 'r', encoding='utf8') as input_file:\n",
    "    raw_step1_result_list = json.load(input_file)"
   ]
  },
  {
   "cell_type": "code",
   "execution_count": null,
   "metadata": {},
   "outputs": [],
   "source": [
    "import re\n",
    "\n",
    "step1_result_list = []\n",
    "\n",
    "def extract_key_lines(text):\n",
    "    text = text.replace('Question 1:', 'Question:')\n",
    "    text = text.replace('Question 2:', 'Question:')\n",
    "    text = text.replace('Question 3:', 'Question:')\n",
    "    text = text.replace('Question:\\n', 'Question: ').replace('Question: \\n', 'Question: ')\n",
    "    \n",
    "    lines = text.split('\\n')\n",
    "    lines = [line.strip() for line in lines]\n",
    "    \n",
    "    query_lines = [line for line in lines if re.match(r'^(question)', line, re.IGNORECASE)]\n",
    "    query_lines = [line for line in query_lines if len(line) > 20]\n",
    "    \n",
    "    if len(query_lines) == 0:\n",
    "        return ''\n",
    "\n",
    "    return query_lines\n",
    "\n",
    "for i in range(len(raw_step1_result_list)):\n",
    "    clean_result_list = extract_key_lines(raw_step1_result_list[i])\n",
    "    clean_result_list = list(set(clean_result_list))\n",
    "    \n",
    "\n",
    "    if len(clean_result_list) >= 1:\n",
    "        step1_result_list.append(clean_result_list[:3])\n",
    "    else:\n",
    "        step1_result_list.append(['None'])\n",
    "        skip_list[i] = 1"
   ]
  },
  {
   "cell_type": "code",
   "execution_count": null,
   "metadata": {},
   "outputs": [],
   "source": [
    "sum(skip_list)"
   ]
  },
  {
   "cell_type": "code",
   "execution_count": null,
   "metadata": {},
   "outputs": [],
   "source": [
    "with open(os.path.join(result_path, f\"{suffix}_step1_skip.json\"), \"w\") as f:\n",
    "    json.dump(skip_list, f, indent=4)"
   ]
  },
  {
   "cell_type": "markdown",
   "metadata": {},
   "source": [
    "## Step 2: Pesudo Label\n"
   ]
  },
  {
   "cell_type": "code",
   "execution_count": null,
   "metadata": {},
   "outputs": [],
   "source": [
    "step2_template = \"\"\"Your task is to tackle mathematical problems step by step.\n",
    "\n",
    "# Instruction: Solve the following problem step by step.\n",
    "{Question}\n",
    "- After \"Answer: \", explain the solution and enclose the ultimate answer in \\\\boxed{{}}.\"\"\""
   ]
  },
  {
   "cell_type": "code",
   "execution_count": null,
   "metadata": {},
   "outputs": [],
   "source": [
    "prompt_list = []\n",
    "\n",
    "for query_list, item in zip(step1_result_list, data):\n",
    "    \n",
    "    temp_list = []\n",
    "    \n",
    "    for query in query_list:\n",
    "        prompt = step2_template.format(\n",
    "            Question=query,\n",
    "        )\n",
    "        temp_list.append(prompt)\n",
    "    \n",
    "    prompt_list.append(temp_list)\n",
    "    \n",
    "print(prompt_list[0][0])"
   ]
  },
  {
   "cell_type": "code",
   "execution_count": null,
   "metadata": {},
   "outputs": [],
   "source": [
    "len(prompt_list)"
   ]
  },
  {
   "cell_type": "code",
   "execution_count": null,
   "metadata": {},
   "outputs": [],
   "source": [
    "raw_step2_result_list = []\n",
    "\n",
    "for i in tqdm(range(len(prompt_list))):\n",
    "    if skip_list[i] == 1:\n",
    "        raw_step2_result_list.append('None')\n",
    "        continue\n",
    "    \n",
    "    demo_candidate = []\n",
    "    \n",
    "    for query_prompt in prompt_list[i]:\n",
    "        try_times = 0\n",
    "        while try_times < 10:\n",
    "            try: \n",
    "                result = create_response_chat(\n",
    "                    MODEL,\n",
    "                    prompt_input=[\n",
    "                        {\"role\": \"system\", \"content\": \"You are a helpful assistant.\"},\n",
    "                        {\"role\": \"user\", \"content\": query_prompt}\n",
    "                    ],\n",
    "                    max_tokens=512,\n",
    "                    temperature=0.0\n",
    "                )\n",
    "                # print(result)\n",
    "                demo_candidate.append(result)\n",
    "                break\n",
    "            except Exception as e:\n",
    "                # print(repr(e))\n",
    "                try_times += 1\n",
    "                if try_times == 10:\n",
    "                    break\n",
    "                openai_key.process_error(e)\n",
    "    \n",
    "    raw_step2_result_list.append(demo_candidate)"
   ]
  },
  {
   "cell_type": "code",
   "execution_count": null,
   "metadata": {},
   "outputs": [],
   "source": [
    "with open(os.path.join(result_path, f\"{suffix}_step2.json\"), \"w\") as f:\n",
    "    json.dump(raw_step2_result_list, f, indent=4)"
   ]
  },
  {
   "cell_type": "code",
   "execution_count": null,
   "metadata": {},
   "outputs": [],
   "source": [
    "with open(os.path.join(result_path, f\"{suffix}_step2.json\"), 'r', encoding='utf8') as input_file:\n",
    "    raw_step2_result_list = json.load(input_file)"
   ]
  },
  {
   "cell_type": "code",
   "execution_count": null,
   "metadata": {},
   "outputs": [],
   "source": [
    "import re\n",
    "\n",
    "step2_result_list = []\n",
    "\n",
    "for i in range(len(data)):\n",
    "    if skip_list[i] == 1:\n",
    "        step2_result_list.append('None')\n",
    "        continue\n",
    "    if len(step1_result_list[i]) == len(raw_step2_result_list[i]):\n",
    "        demo_string = \"\"\n",
    "        for query, answer in zip(step1_result_list[i], raw_step2_result_list[i]):\n",
    "            answer_lines = answer.split('\\n')\n",
    "            answer_lines = [line.strip() for line in answer_lines if line.strip()]\n",
    "            answer = ' '.join(answer_lines)\n",
    "            demo_string += query + '\\n' + answer + '\\n\\n'\n",
    "        \n",
    "        step2_result_list.append(demo_string)\n",
    "    else:\n",
    "        step2_result_list.append('None')\n",
    "        skip_list[i] = 1"
   ]
  },
  {
   "cell_type": "code",
   "execution_count": null,
   "metadata": {},
   "outputs": [],
   "source": [
    "sum(skip_list)"
   ]
  },
  {
   "cell_type": "code",
   "execution_count": null,
   "metadata": {},
   "outputs": [],
   "source": [
    "with open(os.path.join(result_path, f\"{suffix}_step2_skip.json\"), \"w\") as f:\n",
    "    json.dump(skip_list, f, indent=4)"
   ]
  },
  {
   "cell_type": "markdown",
   "metadata": {},
   "source": [
    "## Step 3: Response Generation\n"
   ]
  },
  {
   "cell_type": "code",
   "execution_count": null,
   "metadata": {},
   "outputs": [],
   "source": [
    "with open(os.path.join(result_path, f\"{suffix}_step2_skip.json\"), \"r\") as f:\n",
    "    skip_list = json.load(f)"
   ]
  },
  {
   "cell_type": "code",
   "execution_count": null,
   "metadata": {},
   "outputs": [],
   "source": [
    "step3_template = \"\"\"Your task is to tackle mathematical problems step by step. You can refer to these demonstration to give your reasoning process.\n",
    "\n",
    "# Demonstration:\n",
    "{checked_demonstration}# Instruction: Solve the following problem step by step.\n",
    "Question: {Question}\n",
    "Answer: Explain the solution and enclose the ultimate answer in \\\\boxed{{}} here.\"\"\""
   ]
  },
  {
   "cell_type": "code",
   "execution_count": null,
   "metadata": {},
   "outputs": [],
   "source": [
    "zeroshot_template = \"\"\"Your task is to tackle mathematical problems step by step.\n",
    "\n",
    "# Instruction: Solve the following problem step by step.\n",
    "Question: {Question}\n",
    "Answer: Explain the solution and enclose the ultimate answer in \\\\boxed{{}} here.\"\"\""
   ]
  },
  {
   "cell_type": "code",
   "execution_count": null,
   "metadata": {},
   "outputs": [],
   "source": [
    "prompt_list = []\n",
    "\n",
    "for i in range(len(data)):\n",
    "    if skip_list[i] == 1:\n",
    "        prompt = zeroshot_template.format(\n",
    "            Question=data[i]['Question']\n",
    "        )\n",
    "    else:\n",
    "        prompt = step3_template.format(\n",
    "            checked_demonstration=step2_result_list[i],\n",
    "            Question=data[i]['Question']\n",
    "        )\n",
    "        \n",
    "    prompt_list.append(prompt)\n",
    "    \n",
    "print(prompt_list[0])"
   ]
  },
  {
   "cell_type": "code",
   "execution_count": null,
   "metadata": {},
   "outputs": [],
   "source": [
    "result_list = []\n",
    "\n",
    "for i in tqdm(range(len(prompt_list))):\n",
    "    try_times = 0\n",
    "    while try_times < 10:\n",
    "        try: \n",
    "            result = create_response_chat(\n",
    "                MODEL,\n",
    "                prompt_input=[\n",
    "                    {\"role\": \"system\", \"content\": \"You are a helpful assistant.\"},\n",
    "                    {\"role\": \"user\", \"content\": prompt_list[i]}\n",
    "                ],\n",
    "                max_tokens=512,\n",
    "                temperature=0\n",
    "            )\n",
    "            # print(result)\n",
    "            result_list.append(result)\n",
    "            break\n",
    "        except Exception as e:\n",
    "            try_times += 1\n",
    "            if try_times == 10:\n",
    "                result_list.append('None')\n",
    "            openai_key.process_error(e)"
   ]
  },
  {
   "cell_type": "code",
   "execution_count": null,
   "metadata": {},
   "outputs": [],
   "source": [
    "with open(os.path.join(result_path, f\"{suffix}_step3.json\"), \"w\") as f:\n",
    "    json.dump(result_list, f, indent=4)"
   ]
  },
  {
   "cell_type": "markdown",
   "metadata": {},
   "source": [
    "## Evaluation\n"
   ]
  },
  {
   "cell_type": "code",
   "execution_count": null,
   "metadata": {},
   "outputs": [],
   "source": [
    "with open(os.path.join(result_path, f\"{suffix}_step3.json\"), 'r', encoding='utf8') as input_file:\n",
    "    result_list = json.load(input_file)\n",
    "print(len(result_list))"
   ]
  },
  {
   "cell_type": "code",
   "execution_count": null,
   "metadata": {},
   "outputs": [],
   "source": [
    "from utils.evaluate import evaluate_gsm8k\n",
    "\n",
    "print(f\"Accuracy: {evaluate_gsm8k(result_list, data)}%\")"
   ]
  }
 ],
 "metadata": {
  "kernelspec": {
   "display_name": "base",
   "language": "python",
   "name": "python3"
  },
  "language_info": {
   "codemirror_mode": {
    "name": "ipython",
    "version": 3
   },
   "file_extension": ".py",
   "mimetype": "text/x-python",
   "name": "python",
   "nbconvert_exporter": "python",
   "pygments_lexer": "ipython3",
   "version": "3.10.9"
  },
  "orig_nbformat": 4
 },
 "nbformat": 4,
 "nbformat_minor": 2
}
